{
 "cells": [
  {
   "cell_type": "code",
   "execution_count": 1,
   "id": "d5ac5010",
   "metadata": {},
   "outputs": [],
   "source": [
    "import numpy as np\n",
    "import matplotlib.pyplot as plt\n",
    "\n",
    "\n"
   ]
  },
  {
   "cell_type": "code",
   "execution_count": 2,
   "id": "55fbe507",
   "metadata": {},
   "outputs": [],
   "source": [
    " t = np.arange(0,1, 0.0001)"
   ]
  },
  {
   "cell_type": "code",
   "execution_count": 3,
   "id": "d3174c19",
   "metadata": {},
   "outputs": [
    {
     "data": {
      "text/plain": [
       "array([0.000e+00, 1.000e-04, 2.000e-04, ..., 9.997e-01, 9.998e-01,\n",
       "       9.999e-01])"
      ]
     },
     "execution_count": 3,
     "metadata": {},
     "output_type": "execute_result"
    }
   ],
   "source": [
    "t"
   ]
  },
  {
   "cell_type": "code",
   "execution_count": 4,
   "id": "7459b8c0",
   "metadata": {},
   "outputs": [],
   "source": [
    "a = 10  # Coefficient linéaire a\n",
    "b = 20  # Coefficient linéaire b\n",
    "T = 1000  # Durée du signal\n",
    "A = 9.0  # Amplitude du signal\n",
    "B= 2\n",
    "phi0 = 0.0  # Décalage de phase\n",
    "snr = 0.0001  # Rapport signal/bruit (SNR) désiré\n"
   ]
  },
  {
   "cell_type": "code",
   "execution_count": null,
   "id": "db67e41f",
   "metadata": {},
   "outputs": [],
   "source": [
    " phi = (a + b * t) * t  # Calcul de la phase instantanée\n"
   ]
  },
  {
   "cell_type": "code",
   "execution_count": null,
   "id": "49546ffb",
   "metadata": {},
   "outputs": [],
   "source": [
    "epsilon = np.random.normal(scale=np.sqrt(1), size=len(t))  # Terme aléatoire\n",
    "X = A * np.sin(phi + phi0) + B*epsilon  # Génération du signal modulé avec terme aléatoire\n"
   ]
  },
  {
   "cell_type": "code",
   "execution_count": null,
   "id": "fbeece17",
   "metadata": {},
   "outputs": [],
   "source": [
    "plt.plot(t, X)"
   ]
  },
  {
   "cell_type": "code",
   "execution_count": null,
   "id": "a9c4677d",
   "metadata": {},
   "outputs": [],
   "source": []
  },
  {
   "cell_type": "code",
   "execution_count": null,
   "id": "78bd4a88",
   "metadata": {},
   "outputs": [],
   "source": []
  }
 ],
 "metadata": {
  "kernelspec": {
   "display_name": "Python 3 (ipykernel)",
   "language": "python",
   "name": "python3"
  },
  "language_info": {
   "codemirror_mode": {
    "name": "ipython",
    "version": 3
   },
   "file_extension": ".py",
   "mimetype": "text/x-python",
   "name": "python",
   "nbconvert_exporter": "python",
   "pygments_lexer": "ipython3",
   "version": "3.8.2rc1"
  }
 },
 "nbformat": 4,
 "nbformat_minor": 5
}
